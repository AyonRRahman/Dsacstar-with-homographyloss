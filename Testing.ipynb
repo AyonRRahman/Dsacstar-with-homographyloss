{
 "cells": [
  {
   "cell_type": "code",
   "execution_count": null,
   "id": "4d347209",
   "metadata": {},
   "outputs": [],
   "source": [
    "import os\n",
    "import torch\n",
    "import torch.nn.functional as F\n",
    "import numpy as np\n",
    "import cv2\n",
    "\n",
    "import time\n",
    "import math\n",
    "\n",
    "import argparse\n",
    "\n",
    "import dsacstar\n",
    "from network import Network\n",
    "import datasets\n",
    "from utils import tr, reverse_tr\n",
    "import tensorboard\n"
   ]
  },
  {
   "cell_type": "code",
   "execution_count": 2,
   "id": "19898287",
   "metadata": {},
   "outputs": [],
   "source": [
    "def compute_ABC(w_t_c, c_R_w, w_t_chat, chat_R_w, c_n, eye):\n",
    "    \"\"\"\n",
    "    Computes A, B, and C matrix given estimated and ground truth poses\n",
    "    and normal vector n.\n",
    "    `w_t_c` and `w_t_chat` must have shape (batch_size, 3, 1).\n",
    "    `c_R_w` and `chat_R_w` must have shape (batch_size, 3, 3).\n",
    "    `n` must have shape (3, 1).\n",
    "    `eye` is the (3, 3) identity matrix on the proper device.\n",
    "    \"\"\"\n",
    "    chat_t_c = chat_R_w @ (w_t_c - w_t_chat)\n",
    "#     print(f\"in abc chatRW={chat_R_w.shape} and transpose={c_R_w.transpose(1,2).shape}\")\n",
    "    chat_R_c = chat_R_w @ c_R_w.transpose(1, 2)\n",
    "\n",
    "    A = eye - chat_R_c\n",
    "    C = c_n @ chat_t_c.transpose(1, 2)\n",
    "    B = C @ A\n",
    "    A = A @ A.transpose(1, 2)\n",
    "    B = B + B.transpose(1, 2)\n",
    "    C = C @ C.transpose(1, 2)\n",
    "\n",
    "    return A, B, C\n",
    "\n",
    "\n",
    "class LocalHomographyLoss(torch.nn.Module):\n",
    "    def __init__(self, device='cpu'):\n",
    "        super().__init__()\n",
    "\n",
    "        # `c_n` is the normal vector of the plane inducing the homographies in the ground-truth camera frame\n",
    "        self.c_n = torch.tensor([0, 0, -1], dtype=torch.float32, device=device).view(3, 1)\n",
    "\n",
    "        # `eye` is the (3, 3) identity matrix\n",
    "        self.eye = torch.eye(3, device=device)\n",
    "\n",
    "    def __call__(self, batch):\n",
    "        A, B, C = compute_ABC(batch['w_t_c'], batch['c_R_w'], batch['w_t_chat'], batch['chat_R_w'], self.c_n, self.eye)\n",
    "\n",
    "        xmin = batch['xmin'].view(-1, 1, 1)\n",
    "        xmax = batch['xmax'].view(-1, 1, 1)\n",
    "        B_weight = torch.log(xmax / xmin) / (xmax - xmin)\n",
    "        C_weight = xmin * xmax\n",
    "\n",
    "        error = A + B * B_weight + C / C_weight\n",
    "        error = error.diagonal(dim1=1, dim2=2).sum(dim=1).mean()\n",
    "        return error\n",
    "\n"
   ]
  },
  {
   "cell_type": "code",
   "execution_count": 3,
   "id": "62b79cba",
   "metadata": {},
   "outputs": [
    {
     "name": "stdout",
     "output_type": "stream",
     "text": [
      "Loading seq-01\n"
     ]
    },
    {
     "name": "stderr",
     "output_type": "stream",
     "text": [
      "100%|█████████████████████████████████████████████| 1000/1000 [01:00<00:00, 16.49it/s]\n"
     ]
    },
    {
     "name": "stdout",
     "output_type": "stream",
     "text": [
      "Loading seq-02\n"
     ]
    },
    {
     "name": "stderr",
     "output_type": "stream",
     "text": [
      "100%|█████████████████████████████████████████████| 1000/1000 [01:01<00:00, 16.22it/s]\n"
     ]
    },
    {
     "name": "stdout",
     "output_type": "stream",
     "text": [
      "Loading seq-03\n"
     ]
    },
    {
     "name": "stderr",
     "output_type": "stream",
     "text": [
      "100%|█████████████████████████████████████████████| 1000/1000 [01:02<00:00, 16.11it/s]\n"
     ]
    },
    {
     "name": "stdout",
     "output_type": "stream",
     "text": [
      "Loading seq-04\n"
     ]
    },
    {
     "name": "stderr",
     "output_type": "stream",
     "text": [
      "100%|█████████████████████████████████████████████| 1000/1000 [01:00<00:00, 16.47it/s]\n"
     ]
    },
    {
     "name": "stdout",
     "output_type": "stream",
     "text": [
      "Sorting depths, this may take a while...\n"
     ]
    }
   ],
   "source": [
    "dataset = datasets.SevenScenesDataset(f'/mundus/mrahman527/projects/homography-loss-function/datasets/7-Scenes/fire', 0.025, 0.975)\n"
   ]
  },
  {
   "cell_type": "code",
   "execution_count": 4,
   "id": "e9bde931",
   "metadata": {},
   "outputs": [],
   "source": [
    "train_dataset = datasets.RelocDataset(dataset.train_data)\n",
    "test_dataset = datasets.RelocDataset(dataset.test_data)\n",
    "\n",
    "trainset_loader = torch.utils.data.DataLoader(train_dataset, shuffle=False, num_workers=6, batch_size=1)\n",
    "testset_loader = torch.utils.data.DataLoader(test_dataset, shuffle=False, num_workers=6, batch_size=1)\n",
    "\n",
    "#load network\n",
    "network = Network(torch.zeros((3)),0)\n",
    "\n",
    "check_path = \"our_checkpoints/7-Scenes/fire_with_init\"\n",
    "\n",
    "check_point_list = os.listdir(check_path)\n"
   ]
  },
  {
   "cell_type": "code",
   "execution_count": 5,
   "id": "4398df1a",
   "metadata": {},
   "outputs": [
    {
     "name": "stdout",
     "output_type": "stream",
     "text": [
      "testing for epoch 0\n"
     ]
    },
    {
     "ename": "RuntimeError",
     "evalue": "CUDA error: an illegal memory access was encountered",
     "output_type": "error",
     "traceback": [
      "\u001b[0;31m---------------------------------------------------------------------------\u001b[0m",
      "\u001b[0;31mRuntimeError\u001b[0m                              Traceback (most recent call last)",
      "\u001b[0;32m/tmp/ipykernel_184078/2772963170.py\u001b[0m in \u001b[0;36m<module>\u001b[0;34m\u001b[0m\n\u001b[1;32m     24\u001b[0m             \u001b[0mit\u001b[0m\u001b[0;34m+=\u001b[0m\u001b[0;36m1\u001b[0m\u001b[0;34m\u001b[0m\u001b[0;34m\u001b[0m\u001b[0m\n\u001b[1;32m     25\u001b[0m             \u001b[0mfocal_length\u001b[0m \u001b[0;34m=\u001b[0m \u001b[0mdata\u001b[0m\u001b[0;34m[\u001b[0m\u001b[0;34m'K'\u001b[0m\u001b[0;34m]\u001b[0m\u001b[0;34m[\u001b[0m\u001b[0;36m0\u001b[0m\u001b[0;34m]\u001b[0m\u001b[0;34m[\u001b[0m\u001b[0;36m0\u001b[0m\u001b[0;34m]\u001b[0m\u001b[0;34m[\u001b[0m\u001b[0;36m0\u001b[0m\u001b[0;34m]\u001b[0m\u001b[0;34m\u001b[0m\u001b[0;34m\u001b[0m\u001b[0m\n\u001b[0;32m---> 26\u001b[0;31m             \u001b[0mimage\u001b[0m \u001b[0;34m=\u001b[0m \u001b[0mdata\u001b[0m\u001b[0;34m[\u001b[0m\u001b[0;34m'image'\u001b[0m\u001b[0;34m]\u001b[0m\u001b[0;34m.\u001b[0m\u001b[0mcuda\u001b[0m\u001b[0;34m(\u001b[0m\u001b[0;34m)\u001b[0m\u001b[0;34m\u001b[0m\u001b[0;34m\u001b[0m\u001b[0m\n\u001b[0m\u001b[1;32m     27\u001b[0m \u001b[0;34m\u001b[0m\u001b[0m\n\u001b[1;32m     28\u001b[0m             \u001b[0mwtc\u001b[0m\u001b[0;34m,\u001b[0m \u001b[0mcrw\u001b[0m \u001b[0;34m=\u001b[0m \u001b[0mdata\u001b[0m\u001b[0;34m[\u001b[0m\u001b[0;34m'w_t_c'\u001b[0m\u001b[0;34m]\u001b[0m\u001b[0;34m,\u001b[0m \u001b[0mdata\u001b[0m\u001b[0;34m[\u001b[0m\u001b[0;34m'c_R_w'\u001b[0m\u001b[0;34m]\u001b[0m\u001b[0;34m\u001b[0m\u001b[0;34m\u001b[0m\u001b[0m\n",
      "\u001b[0;31mRuntimeError\u001b[0m: CUDA error: an illegal memory access was encountered"
     ]
    }
   ],
   "source": [
    "\n",
    "for checkpoint in check_point_list:\n",
    "    epoch = checkpoint[:-3].split('_')[-1]\n",
    "    print(f'testing for epoch {epoch}')\n",
    "    \n",
    "    check_point = torch.load(os.path.join(check_path, checkpoint))\n",
    "    \n",
    "    network.load_state_dict(check_point['model_state_dict'])\n",
    "    network.cuda()\n",
    "    network.eval()\n",
    "\n",
    "    running_homography_loss = 0\n",
    "\n",
    "    it = 0\n",
    "    rErrs = []\n",
    "    tErrs = []\n",
    "    avg_time = 0\n",
    "    pct5 = 0\n",
    "    pct2 = 0\n",
    "    pct1 = 0\n",
    "\n",
    "    with torch.no_grad():\n",
    "        for data in testset_loader:\n",
    "            it+=1\n",
    "            print(it)\n",
    "            focal_length = data['K'][0][0][0]\n",
    "            image = data['image'].cuda()\n",
    "            \n",
    "            wtc, crw = data['w_t_c'], data['c_R_w']\n",
    "\n",
    "            start_time = time.time()\n",
    "            scene_coordinates = network(image)\n",
    "            scene_coordinates = scene_coordinates.cpu()\n",
    "            gt_pose = reverse_tr(crw, wtc)[0]\n",
    "            out_pose = torch.zeros((4, 4))\n",
    "            dsacstar.forward_rgb(\n",
    "\t\t\t\tscene_coordinates, \n",
    "\t\t\t\tout_pose, \n",
    "\t\t\t\t64, \n",
    "\t\t\t\t10,\n",
    "\t\t\t\tfocal_length, \n",
    "\t\t\t\tfloat(image.size(3) / 2), #principal point assumed in image center\n",
    "\t\t\t\tfloat(image.size(2) / 2), \n",
    "\t\t\t\t100,\n",
    "\t\t\t\t100,\n",
    "\t\t\t\tnetwork.OUTPUT_SUBSAMPLE)\n",
    "\n",
    "            \n",
    "            avg_time += time.time()-start_time\n",
    "\n",
    "            # calculate pose errors\n",
    "            t_err = float(torch.norm(gt_pose[0:3, 3] - out_pose[0:3, 3]))\n",
    "            # print(f\"t err {t_err}\")\n",
    "            gt_R = gt_pose[0:3,0:3].numpy()\n",
    "            out_R = out_pose[0:3,0:3].numpy()\n",
    "\n",
    "            r_err = np.matmul(out_R, np.transpose(gt_R))\n",
    "            r_err = cv2.Rodrigues(r_err)[0]\n",
    "            r_err = np.linalg.norm(r_err) * 180 / math.pi\n",
    "            # print(f\"r err {r_err}\")\n",
    "            # print(gt_pose)\n",
    "            # print(out_pose)\n",
    "    \n",
    "    median_idx = int(len(rErrs)/2)\n",
    "    tErrs.sort()\n",
    "    rErrs.sort()\n",
    "    avg_time /= len(rErrs)\n",
    "\n",
    "    print(\"\\n===================================================\")\n",
    "    print(\"\\nTest complete.\")\n",
    "\n",
    "    print('\\nAccuracy:')\n",
    "    print('\\n5cm5deg: %.1f%%' %(pct5 / len(rErrs) * 100))\n",
    "    print('2cm2deg: %.1f%%' % (pct2 / len(rErrs) * 100))\n",
    "    print('1cm1deg: %.1f%%' % (pct1 / len(rErrs) * 100))\n",
    "\n",
    "    print(\"\\nMedian Error: %.1fdeg, %.1fcm\" % (rErrs[median_idx], tErrs[median_idx]))\n",
    "    print(\"Avg. processing time: %4.1fms\" % (avg_time * 1000))\n",
    "    \n",
    "\n",
    "    break\n"
   ]
  },
  {
   "cell_type": "code",
   "execution_count": 6,
   "id": "2e63bd34",
   "metadata": {},
   "outputs": [
    {
     "name": "stdout",
     "output_type": "stream",
     "text": [
      "/bin/bash: info-cluster: command not found\r\n"
     ]
    }
   ],
   "source": [
    "!info-cluster\n"
   ]
  }
 ],
 "metadata": {
  "kernelspec": {
   "display_name": "Python 3 (ipykernel)",
   "language": "python",
   "name": "python3"
  },
  "language_info": {
   "codemirror_mode": {
    "name": "ipython",
    "version": 3
   },
   "file_extension": ".py",
   "mimetype": "text/x-python",
   "name": "python",
   "nbconvert_exporter": "python",
   "pygments_lexer": "ipython3",
   "version": "3.7.16"
  }
 },
 "nbformat": 4,
 "nbformat_minor": 5
}
